{
 "cells": [
  {
   "cell_type": "code",
   "execution_count": 1,
   "metadata": {},
   "outputs": [],
   "source": [
    "import os\n",
    "import torch\n",
    "from torch import nn\n",
    "from torch.utils.data import DataLoader\n",
    "from torchvision import datasets, transforms"
   ]
  },
  {
   "cell_type": "code",
   "execution_count": 2,
   "metadata": {},
   "outputs": [
    {
     "name": "stdout",
     "output_type": "stream",
     "text": [
      "Using cpu device\n"
     ]
    }
   ],
   "source": [
    "device = torch.accelerator.current_accelerator().type if torch.accelerator.is_available() else \"cpu\"\n",
    "print(f\"Using {device} device\")"
   ]
  },
  {
   "cell_type": "markdown",
   "metadata": {},
   "source": [
    "## Define the class\n",
    "We define our neural network by subclassing nn.Module, and initialize the neural network layers in __init__. Every nn.Module subclass implements the operations on input data in the forward method.\n"
   ]
  },
  {
   "cell_type": "code",
   "execution_count": 3,
   "metadata": {},
   "outputs": [],
   "source": [
    "class NeuralNetwork(nn.Module):\n",
    "    def __init__(self):\n",
    "        super().__init__()\n",
    "        self.flatten = nn.Flatten()\n",
    "        self.linear_relu_stack = nn.Sequential(\n",
    "            nn.Linear(28*28, 512),\n",
    "            nn.ReLU(),\n",
    "            nn.Linear(512, 512),\n",
    "            nn.ReLU(),\n",
    "            nn.Linear(512, 10),\n",
    "        )\n",
    "\n",
    "    def forward(self, x):\n",
    "        x = self.flatten(x)\n",
    "        logits = self.linear_relu_stack(x)\n",
    "        return logits"
   ]
  },
  {
   "cell_type": "code",
   "execution_count": 4,
   "metadata": {},
   "outputs": [
    {
     "name": "stdout",
     "output_type": "stream",
     "text": [
      "NeuralNetwork(\n",
      "  (flatten): Flatten(start_dim=1, end_dim=-1)\n",
      "  (linear_relu_stack): Sequential(\n",
      "    (0): Linear(in_features=784, out_features=512, bias=True)\n",
      "    (1): ReLU()\n",
      "    (2): Linear(in_features=512, out_features=512, bias=True)\n",
      "    (3): ReLU()\n",
      "    (4): Linear(in_features=512, out_features=10, bias=True)\n",
      "  )\n",
      ")\n"
     ]
    }
   ],
   "source": [
    "model = NeuralNetwork().to(device)\n",
    "print(model)\n"
   ]
  },
  {
   "cell_type": "markdown",
   "metadata": {},
   "source": [
    "To use the model, we pass it the input data. This executes the model’s forward, along with some background operations. Do not call model.forward() directly!"
   ]
  },
  {
   "cell_type": "code",
   "execution_count": 8,
   "metadata": {},
   "outputs": [
    {
     "name": "stdout",
     "output_type": "stream",
     "text": [
      "tensor([[0.0946, 0.0990, 0.0978, 0.0991, 0.1073, 0.1050, 0.1003, 0.1050, 0.0957,\n",
      "         0.0961]], grad_fn=<SoftmaxBackward0>)\n",
      "Predicted class: tensor([4])\n"
     ]
    }
   ],
   "source": [
    "X = torch.rand(1, 28, 28, device = device)\n",
    "logits = model(X)\n",
    "pred_probab = nn.Softmax(dim = 1)(logits)\n",
    "print(pred_probab)\n",
    "y_pred = pred_probab.argmax(1)\n",
    "print(f\"Predicted class: {y_pred}\")"
   ]
  },
  {
   "cell_type": "code",
   "execution_count": 9,
   "metadata": {},
   "outputs": [
    {
     "name": "stdout",
     "output_type": "stream",
     "text": [
      "torch.Size([3, 28, 28])\n"
     ]
    }
   ],
   "source": [
    "input_image = torch.rand(3, 28, 28)\n",
    "print(input_image.size())"
   ]
  },
  {
   "cell_type": "code",
   "execution_count": 10,
   "metadata": {},
   "outputs": [
    {
     "name": "stdout",
     "output_type": "stream",
     "text": [
      "torch.Size([3, 784])\n"
     ]
    }
   ],
   "source": [
    "flatten = nn.Flatten()\n",
    "flat_image = flatten(input_image)\n",
    "print(flat_image.size())"
   ]
  },
  {
   "cell_type": "code",
   "execution_count": 14,
   "metadata": {},
   "outputs": [
    {
     "name": "stdout",
     "output_type": "stream",
     "text": [
      "torch.Size([3, 20])\n"
     ]
    }
   ],
   "source": [
    "layer_1 = nn.Linear(in_features= 28*28, out_features=20)\n",
    "hidden1 = layer_1(flat_image)\n",
    "print(hidden1.size())"
   ]
  },
  {
   "cell_type": "code",
   "execution_count": 15,
   "metadata": {},
   "outputs": [
    {
     "name": "stdout",
     "output_type": "stream",
     "text": [
      "Before ReLU: tensor([[ 0.1949,  0.0962, -0.4345, -0.0237, -0.4161, -0.5999,  0.0263,  0.5494,\n",
      "          0.2637, -0.5219, -0.0817,  0.2755,  0.0035,  0.0845,  0.1853, -0.2283,\n",
      "          0.6216,  0.0586, -0.1746, -0.2639],\n",
      "        [ 0.1411,  0.1663, -0.2678, -0.5014, -0.3564,  0.0329,  0.0257,  0.4934,\n",
      "          0.3611, -0.2367, -0.3254,  0.2110,  0.0509,  0.0558, -0.0629, -0.1329,\n",
      "          0.7193,  0.2197,  0.2108,  0.1739],\n",
      "        [-0.0047,  0.1184,  0.0908, -0.3528, -0.1847, -0.2807, -0.1551,  0.2372,\n",
      "          0.7463, -0.1838,  0.1153,  0.5821,  0.1879,  0.3467,  0.2397, -0.0064,\n",
      "          0.6171,  0.1340,  0.0573, -0.0485]], grad_fn=<AddmmBackward0>) \n",
      "\n",
      "After ReLU: tensor([[0.1949, 0.0962, 0.0000, 0.0000, 0.0000, 0.0000, 0.0263, 0.5494, 0.2637,\n",
      "         0.0000, 0.0000, 0.2755, 0.0035, 0.0845, 0.1853, 0.0000, 0.6216, 0.0586,\n",
      "         0.0000, 0.0000],\n",
      "        [0.1411, 0.1663, 0.0000, 0.0000, 0.0000, 0.0329, 0.0257, 0.4934, 0.3611,\n",
      "         0.0000, 0.0000, 0.2110, 0.0509, 0.0558, 0.0000, 0.0000, 0.7193, 0.2197,\n",
      "         0.2108, 0.1739],\n",
      "        [0.0000, 0.1184, 0.0908, 0.0000, 0.0000, 0.0000, 0.0000, 0.2372, 0.7463,\n",
      "         0.0000, 0.1153, 0.5821, 0.1879, 0.3467, 0.2397, 0.0000, 0.6171, 0.1340,\n",
      "         0.0573, 0.0000]], grad_fn=<ReluBackward0>) \n",
      "\n"
     ]
    }
   ],
   "source": [
    "print(f\"Before ReLU: {hidden1} \\n\")\n",
    "hidden1 = nn.ReLU()(hidden1)\n",
    "print(f\"After ReLU: {hidden1} \\n\")"
   ]
  },
  {
   "cell_type": "code",
   "execution_count": 16,
   "metadata": {},
   "outputs": [
    {
     "name": "stdout",
     "output_type": "stream",
     "text": [
      "tensor([[-0.0878,  0.1558,  0.1121,  0.0042, -0.1056, -0.1544, -0.2648, -0.1318,\n",
      "          0.0309, -0.0094],\n",
      "        [-0.0065,  0.1106,  0.1916,  0.0031, -0.1146, -0.0050, -0.3082, -0.0694,\n",
      "         -0.0225,  0.0206],\n",
      "        [-0.0709,  0.1192,  0.2312,  0.0862, -0.0587, -0.1722, -0.3620, -0.1318,\n",
      "          0.0342, -0.0998]], grad_fn=<AddmmBackward0>)\n"
     ]
    }
   ],
   "source": [
    "seq_modules = nn.Sequential(\n",
    "    flatten,\n",
    "    layer_1,\n",
    "    nn.ReLU(),\n",
    "    nn.Linear(20, 10)\n",
    ")\n",
    "input_image = torch.rand(3,28,28)\n",
    "logits = seq_modules(input_image)\n",
    "print(logits)"
   ]
  },
  {
   "cell_type": "code",
   "execution_count": 21,
   "metadata": {},
   "outputs": [
    {
     "name": "stdout",
     "output_type": "stream",
     "text": [
      "tensor([[0.0951, 0.1214, 0.1162, 0.1043, 0.0934, 0.0890, 0.0797, 0.0910, 0.1071,\n",
      "         0.1029],\n",
      "        [0.1006, 0.1131, 0.1226, 0.1016, 0.0903, 0.1007, 0.0744, 0.0944, 0.0990,\n",
      "         0.1033],\n",
      "        [0.0960, 0.1161, 0.1298, 0.1123, 0.0972, 0.0867, 0.0717, 0.0903, 0.1066,\n",
      "         0.0932]], grad_fn=<SoftmaxBackward0>)\n",
      "Predicted class: tensor([1, 2, 2])\n"
     ]
    }
   ],
   "source": [
    "softmax = nn.Softmax(dim = 1)\n",
    "pred_probab = softmax(logits)\n",
    "print(pred_probab)\n",
    "y_pred = pred_probab.argmax(1)\n",
    "print(f\"Predicted class: {y_pred}\")"
   ]
  },
  {
   "cell_type": "code",
   "execution_count": 22,
   "metadata": {},
   "outputs": [
    {
     "name": "stdout",
     "output_type": "stream",
     "text": [
      "Model structure: NeuralNetwork(\n",
      "  (flatten): Flatten(start_dim=1, end_dim=-1)\n",
      "  (linear_relu_stack): Sequential(\n",
      "    (0): Linear(in_features=784, out_features=512, bias=True)\n",
      "    (1): ReLU()\n",
      "    (2): Linear(in_features=512, out_features=512, bias=True)\n",
      "    (3): ReLU()\n",
      "    (4): Linear(in_features=512, out_features=10, bias=True)\n",
      "  )\n",
      ")\n",
      "\n",
      "\n",
      "Layer: linear_relu_stack.0.weight | Size: torch.Size([512, 784]) | Values : tensor([[ 0.0081,  0.0211,  0.0151,  ..., -0.0151,  0.0179, -0.0092],\n",
      "        [ 0.0345, -0.0051, -0.0311,  ..., -0.0174,  0.0256,  0.0343]],\n",
      "       grad_fn=<SliceBackward0>) \n",
      "\n",
      "Layer: linear_relu_stack.0.bias | Size: torch.Size([512]) | Values : tensor([-0.0345, -0.0210], grad_fn=<SliceBackward0>) \n",
      "\n",
      "Layer: linear_relu_stack.2.weight | Size: torch.Size([512, 512]) | Values : tensor([[ 0.0056, -0.0219, -0.0013,  ..., -0.0231,  0.0263, -0.0409],\n",
      "        [-0.0364, -0.0414, -0.0121,  ...,  0.0063,  0.0069, -0.0241]],\n",
      "       grad_fn=<SliceBackward0>) \n",
      "\n",
      "Layer: linear_relu_stack.2.bias | Size: torch.Size([512]) | Values : tensor([-0.0093,  0.0143], grad_fn=<SliceBackward0>) \n",
      "\n",
      "Layer: linear_relu_stack.4.weight | Size: torch.Size([10, 512]) | Values : tensor([[-0.0369,  0.0341,  0.0267,  ...,  0.0314,  0.0021, -0.0046],\n",
      "        [ 0.0251,  0.0420,  0.0148,  ...,  0.0396,  0.0256, -0.0274]],\n",
      "       grad_fn=<SliceBackward0>) \n",
      "\n",
      "Layer: linear_relu_stack.4.bias | Size: torch.Size([10]) | Values : tensor([ 0.0249, -0.0158], grad_fn=<SliceBackward0>) \n",
      "\n"
     ]
    }
   ],
   "source": [
    "print(f\"Model structure: {model}\\n\\n\")\n",
    "\n",
    "for name, param in model.named_parameters():\n",
    "    print(f\"Layer: {name} | Size: {param.size()} | Values : {param[:2]} \\n\")"
   ]
  },
  {
   "cell_type": "code",
   "execution_count": null,
   "metadata": {},
   "outputs": [],
   "source": []
  }
 ],
 "metadata": {
  "kernelspec": {
   "display_name": "Python 3",
   "language": "python",
   "name": "python3"
  },
  "language_info": {
   "codemirror_mode": {
    "name": "ipython",
    "version": 3
   },
   "file_extension": ".py",
   "mimetype": "text/x-python",
   "name": "python",
   "nbconvert_exporter": "python",
   "pygments_lexer": "ipython3",
   "version": "3.12.8"
  }
 },
 "nbformat": 4,
 "nbformat_minor": 2
}
